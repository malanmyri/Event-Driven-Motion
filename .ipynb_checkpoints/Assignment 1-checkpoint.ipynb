{
 "cells": [
  {
   "cell_type": "markdown",
   "id": "b6f374ad",
   "metadata": {},
   "source": [
    "# Assignment 1\n",
    "\n",
    "### Table of contents\n",
    "\n",
    "    Importing libraries\n",
    "    Particle class\n",
    "    Collision class\n",
    "    Model \n",
    "    Task 1\n",
    "    Task 2 \n",
    "    Task 3 \n",
    "    Task 4"
   ]
  },
  {
   "cell_type": "code",
   "execution_count": 2,
   "id": "9c0f9c91",
   "metadata": {},
   "outputs": [
    {
     "ename": "ImportError",
     "evalue": "Numba needs NumPy 1.21 or less",
     "output_type": "error",
     "traceback": [
      "\u001b[1;31m---------------------------------------------------------------------------\u001b[0m",
      "\u001b[1;31mImportError\u001b[0m                               Traceback (most recent call last)",
      "Input \u001b[1;32mIn [2]\u001b[0m, in \u001b[0;36m<cell line: 2>\u001b[1;34m()\u001b[0m\n\u001b[0;32m      1\u001b[0m \u001b[38;5;28;01mimport\u001b[39;00m \u001b[38;5;21;01mnumpy\u001b[39;00m \u001b[38;5;28;01mas\u001b[39;00m \u001b[38;5;21;01mnp\u001b[39;00m\n\u001b[1;32m----> 2\u001b[0m \u001b[38;5;28;01mfrom\u001b[39;00m \u001b[38;5;21;01mnumba\u001b[39;00m \u001b[38;5;28;01mimport\u001b[39;00m jit\n\u001b[0;32m      3\u001b[0m \u001b[38;5;28;01mfrom\u001b[39;00m \u001b[38;5;21;01mqueue\u001b[39;00m \u001b[38;5;28;01mimport\u001b[39;00m PriorityQueue\n\u001b[0;32m      4\u001b[0m \u001b[38;5;28;01mimport\u001b[39;00m \u001b[38;5;21;01mtyping\u001b[39;00m\n",
      "File \u001b[1;32m~\\anaconda3\\lib\\site-packages\\numba\\__init__.py:200\u001b[0m, in \u001b[0;36m<module>\u001b[1;34m\u001b[0m\n\u001b[0;32m    197\u001b[0m     \u001b[38;5;28;01mreturn\u001b[39;00m \u001b[38;5;28;01mFalse\u001b[39;00m\n\u001b[0;32m    199\u001b[0m _ensure_llvm()\n\u001b[1;32m--> 200\u001b[0m \u001b[43m_ensure_critical_deps\u001b[49m\u001b[43m(\u001b[49m\u001b[43m)\u001b[49m\n\u001b[0;32m    202\u001b[0m \u001b[38;5;66;03m# we know llvmlite is working as the above tests passed, import it now as SVML\u001b[39;00m\n\u001b[0;32m    203\u001b[0m \u001b[38;5;66;03m# needs to mutate runtime options (sets the `-vector-library`).\u001b[39;00m\n\u001b[0;32m    204\u001b[0m \u001b[38;5;28;01mimport\u001b[39;00m \u001b[38;5;21;01mllvmlite\u001b[39;00m\n",
      "File \u001b[1;32m~\\anaconda3\\lib\\site-packages\\numba\\__init__.py:140\u001b[0m, in \u001b[0;36m_ensure_critical_deps\u001b[1;34m()\u001b[0m\n\u001b[0;32m    138\u001b[0m     \u001b[38;5;28;01mraise\u001b[39;00m \u001b[38;5;167;01mImportError\u001b[39;00m(\u001b[38;5;124m\"\u001b[39m\u001b[38;5;124mNumba needs NumPy 1.18 or greater\u001b[39m\u001b[38;5;124m\"\u001b[39m)\n\u001b[0;32m    139\u001b[0m \u001b[38;5;28;01melif\u001b[39;00m numpy_version \u001b[38;5;241m>\u001b[39m (\u001b[38;5;241m1\u001b[39m, \u001b[38;5;241m21\u001b[39m):\n\u001b[1;32m--> 140\u001b[0m     \u001b[38;5;28;01mraise\u001b[39;00m \u001b[38;5;167;01mImportError\u001b[39;00m(\u001b[38;5;124m\"\u001b[39m\u001b[38;5;124mNumba needs NumPy 1.21 or less\u001b[39m\u001b[38;5;124m\"\u001b[39m)\n\u001b[0;32m    142\u001b[0m \u001b[38;5;28;01mtry\u001b[39;00m:\n\u001b[0;32m    143\u001b[0m     \u001b[38;5;28;01mimport\u001b[39;00m \u001b[38;5;21;01mscipy\u001b[39;00m\n",
      "\u001b[1;31mImportError\u001b[0m: Numba needs NumPy 1.21 or less"
     ]
    }
   ],
   "source": [
    "import numpy as np\n",
    "from numba import jit\n",
    "from queue import PriorityQueue\n",
    "import typing\n",
    "\n",
    "np.random.seed(0)\n"
   ]
  },
  {
   "cell_type": "code",
   "execution_count": 3,
   "id": "c115ee2d",
   "metadata": {},
   "outputs": [
    {
     "name": "stdout",
     "output_type": "stream",
     "text": [
      "\n",
      "Note: you may need to restart the kernel to use updated packages.\n"
     ]
    }
   ],
   "source": [
    "conda update numpy\n"
   ]
  },
  {
   "cell_type": "code",
   "execution_count": 6,
   "id": "a14eb477",
   "metadata": {},
   "outputs": [
    {
     "ename": "NameError",
     "evalue": "name 'typing' is not defined",
     "output_type": "error",
     "traceback": [
      "\u001b[1;31m---------------------------------------------------------------------------\u001b[0m",
      "\u001b[1;31mNameError\u001b[0m                                 Traceback (most recent call last)",
      "Input \u001b[1;32mIn [6]\u001b[0m, in \u001b[0;36m<cell line: 1>\u001b[1;34m()\u001b[0m\n\u001b[1;32m----> 1\u001b[0m \u001b[38;5;28;01mclass\u001b[39;00m \u001b[38;5;21;01mparticle\u001b[39;00m: \n\u001b[0;32m      2\u001b[0m     \u001b[38;5;28;01mdef\u001b[39;00m \u001b[38;5;21m__init__\u001b[39m(\u001b[38;5;28mself\u001b[39m, \n\u001b[0;32m      3\u001b[0m                  positions:typing\u001b[38;5;241m.\u001b[39mList[\u001b[38;5;28mint\u001b[39m], \n\u001b[0;32m      4\u001b[0m                  velocities:typing\u001b[38;5;241m.\u001b[39mList[\u001b[38;5;28mint\u001b[39m], \n\u001b[0;32m      5\u001b[0m                  radius:\u001b[38;5;28mfloat\u001b[39m,\n\u001b[0;32m      6\u001b[0m                  mass:\u001b[38;5;28mfloat\u001b[39m,\n\u001b[0;32m      7\u001b[0m                  last_collision_time:\u001b[38;5;28mfloat\u001b[39m):\n\u001b[0;32m      8\u001b[0m         \u001b[38;5;28mself\u001b[39m\u001b[38;5;241m.\u001b[39mpositions \u001b[38;5;241m=\u001b[39m positions\n",
      "Input \u001b[1;32mIn [6]\u001b[0m, in \u001b[0;36mparticle\u001b[1;34m()\u001b[0m\n\u001b[0;32m      1\u001b[0m \u001b[38;5;28;01mclass\u001b[39;00m \u001b[38;5;21;01mparticle\u001b[39;00m: \n\u001b[0;32m      2\u001b[0m     \u001b[38;5;28;01mdef\u001b[39;00m \u001b[38;5;21m__init__\u001b[39m(\u001b[38;5;28mself\u001b[39m, \n\u001b[1;32m----> 3\u001b[0m                  positions:\u001b[43mtyping\u001b[49m\u001b[38;5;241m.\u001b[39mList[\u001b[38;5;28mint\u001b[39m], \n\u001b[0;32m      4\u001b[0m                  velocities:typing\u001b[38;5;241m.\u001b[39mList[\u001b[38;5;28mint\u001b[39m], \n\u001b[0;32m      5\u001b[0m                  radius:\u001b[38;5;28mfloat\u001b[39m,\n\u001b[0;32m      6\u001b[0m                  mass:\u001b[38;5;28mfloat\u001b[39m,\n\u001b[0;32m      7\u001b[0m                  last_collision_time:\u001b[38;5;28mfloat\u001b[39m):\n\u001b[0;32m      8\u001b[0m         \u001b[38;5;28mself\u001b[39m\u001b[38;5;241m.\u001b[39mpositions \u001b[38;5;241m=\u001b[39m positions\n\u001b[0;32m      9\u001b[0m         \u001b[38;5;28mself\u001b[39m\u001b[38;5;241m.\u001b[39mvelocities \u001b[38;5;241m=\u001b[39m velocities\n",
      "\u001b[1;31mNameError\u001b[0m: name 'typing' is not defined"
     ]
    }
   ],
   "source": [
    "class particle: \n",
    "    def __init__(self, \n",
    "                 positions:typing.List[int], \n",
    "                 velocities:typing.List[int], \n",
    "                 radius:float,\n",
    "                 mass:float,\n",
    "                 last_collision_time:float):\n",
    "        self.positions = positions\n",
    "        self.velocities = velocities\n",
    "        self.radius = radius\n",
    "        self.mass = mass\n",
    "        self.last_collision_time = last_collision_time"
   ]
  },
  {
   "cell_type": "code",
   "execution_count": null,
   "id": "2a5bbb0e",
   "metadata": {},
   "outputs": [],
   "source": [
    "class collision: \n",
    "    def __init__(self,\n",
    "                 time: float,\n",
    "                 entities:  typing.List[particle], \n",
    "                 collison_count:float,\n",
    "                 ):\n",
    "        self.time = time \n",
    "        self.entities = entities \n",
    "        self.collision_count = collision_count\n",
    "\n",
    "class system: \n",
    "    def __init__(self, \n",
    "                 num_particles: int, \n",
    "                 elasticity: float,\n",
    "                 x_boundaries: typing.List[int], \n",
    "                 y_boundaries: typing.List[int], \n",
    "                 mean_velocity: float,\n",
    "                 mass: typing.List[float],\n",
    "                 radius: typing.List[float],\n",
    "                ):\n",
    "        self.num_particles = num_particles                    #Number of particles in the system\n",
    "        self.elasticity = elasticity                          #Elasticity constant of the system \n",
    "        self.particles = np.zeros(num_particles)              #List that will hold all the particles in the system\n",
    "        self.collisions = PriorityQueue()                     #A min heap with all collisions, sorted by the time of incident. \n",
    "        self.x_lim = x_boundaries                             #x boundaries of the box\n",
    "        self.y_lim = y_boundaries                             #y boundaries of the box\n",
    "        self.mean_velocity = mean_velocity                    #This is actually not the mean velocity, but the velocity used in the calculations\n",
    "        self.mass = mass                                      #List containing the masses of the particles. \n",
    "        self.radius = radius                                  #List containing the different radiuses of the particles.\n",
    "    \n",
    "    def uniform_particles(self):\n",
    "        for num in range(self.num_particles):\n",
    "            position = np.random.uniform(self.x_lim, self.y_lim, 2)\n",
    "            theta = np.random.uniform(0, 2*np.pi, 2)\n",
    "            velocity = np.array([np.cos(theta[0]), np.sin(theta[1])])*self.mean_velocity\n",
    "            self.num_particles[num] = particle(position, velcoity, self.radius, self.mass, -1000)\n",
    "    def find_all_collisions(self):\n",
    "        \n",
    "        #Wall collisions: \n",
    "        \n",
    "        "
   ]
  },
  {
   "cell_type": "markdown",
   "id": "e889b246",
   "metadata": {},
   "source": [
    "**Task 1**\n",
    "In this task the speed distribution of a gas of hard disks will be investigated.\n",
    "\n",
    "The conditions set are: \n",
    "\n",
    "    4000 particles \n",
    "        positions: random uniform distribution within box [0,1][0,1]\n",
    "        velocities: random uniform distribution, v = [v0 cosθ,v0 sinθ], v0 = 1, and 0 = [1, 2π]\n",
    "        mass: 1\n",
    "    Elastic conditions: ξ =1 \n",
    "\n",
    "In the three histograms below we see the initial speed distribution, the speed distribution after the system has reached equilibrium and the D Maxwell-Boltzmann distribution.\n",
    "    \n",
    "    p(v) = mv kT exp−mv2 2kT\n",
    "\n",
    "\n"
   ]
  }
 ],
 "metadata": {
  "kernelspec": {
   "display_name": "Python 3 (ipykernel)",
   "language": "python",
   "name": "python3"
  },
  "language_info": {
   "codemirror_mode": {
    "name": "ipython",
    "version": 3
   },
   "file_extension": ".py",
   "mimetype": "text/x-python",
   "name": "python",
   "nbconvert_exporter": "python",
   "pygments_lexer": "ipython3",
   "version": "3.9.12"
  }
 },
 "nbformat": 4,
 "nbformat_minor": 5
}
