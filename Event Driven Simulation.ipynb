{
 "cells": [
  {
   "cell_type": "markdown",
   "id": "ae5d7c74",
   "metadata": {},
   "source": [
    "# Even Driven Simulation"
   ]
  },
  {
   "cell_type": "markdown",
   "id": "118502cb",
   "metadata": {},
   "source": [
    "### Table of Content\n",
    "\n",
    "1. Introduction\n",
    "2. Theory\n",
    "3. Method and Results\n",
    "4. Discussion \n",
    "5. Conclusion"
   ]
  },
  {
   "cell_type": "markdown",
   "id": "d0f14179",
   "metadata": {},
   "source": [
    "### Introduction\n",
    "\n",
    "The aim of this report is to simulate the collision of particles in a box with the help of an event-driven simulation method. The simulation involves four problems, which are investigated separately.\n",
    "\n",
    "In Problem 1, we investigate the speed distribution of a gas of hard disks, and the results are compared with the theoretically expected 2D Maxwell-Boltzmann distribution. In Problem 2, we simulate a mixture of two gases with different masses per particle, and we compare the speed distribution and the average kinetic energy of each gas. In Problem 3, we investigate the behavior of the system with different values of the elastiticity coefficient, ξ, and study the development of the average kinetic energy and temperature of each gas as a function of time. Finally, in Problem 4, we study the formation of a crater following a projectile impact on a wall of particles, and we investigate the effect of input parameters on the size of the crater. The simulation involves a large number of particles, and the simulations are carried out until the system reaches equilibrium or until the initial energy of the system is dissipated. The details of each problem and the results obtained are discussed in the following sections.\n"
   ]
  },
  {
   "cell_type": "markdown",
   "id": "b5225863",
   "metadata": {},
   "source": [
    "### Theory\n",
    "\n",
    "Most of the theory was coverd in the assignment, but some additional formulas and physic laws were used in the calculation of some constants."
   ]
  },
  {
   "cell_type": "markdown",
   "id": "4a4ebafd",
   "metadata": {},
   "source": [
    "### Method and Results"
   ]
  },
  {
   "cell_type": "markdown",
   "id": "e3050325",
   "metadata": {},
   "source": [
    "#### Task1 \n",
    "\n",
    "This task involved investigating the speed distribution of a gas of hard disks using event-driven simulation. A large number of particles were initialized with random positions and velocities. The initial speed distribution was a delta function. The system was left to reach equilibrium, and a new histogram of the speed distribution was created. The expected distribution was the 2D Maxwell-Boltzmann distribution, which was compared to the simulated result. It was decided that the simulation was going to try and simulate oxygen gas. \n",
    "\n",
    "To solve this task, 4 classes were made. Position, Velocity, Particle and System. Using a class structure means that the program has a large overhead but it also runs fast and is easy to understand. The class System, keeps track of all the particles in a list and all the collisions in a priority queue. System also has many memberfunctions, to calculate the systems energy, find all potensial collision and when they will occur, and basic return functions, which return the values we are interrested in and attributes such as elasticity, dt t\\_c and more.\n",
    "\n",
    "In order to compare the simulation to the boltsmann distribution, the mean\\_velocity used in the simulation and the temperature used in the boltsmann function had to fullfill the equipartion theorem. \n",
    "\n",
    "$$\\begin{equation}\n",
    "E = N K_b T\n",
    "\\label{equipartion}\n",
    "\\end{equation}$$\n",
    "\n",
    "Where the energy is the average energy of the gass for N number of particles at a temperatur of T. Since the energy of the gass is given by the kinetic energy of its gass particles. \\autoref{equipartion} can be rewritten into the velocity of one particle as follows.\n",
    "\n",
    "$$\n",
    "\\begin{equation}\n",
    "    v = \\sqrt{\\frac{2 k_b T}{m}}\n",
    "\\label{rms}\n",
    "\\end{equation}\n",
    "$$\n",
    "\n",
    "The initial conditions used in the setup are given in the table below. The constant b refers to the volume taken up by one mole of $O_2$. The \\autoref{Van} is a modified version of the ideal gass law. It is almost the same as the Ideal gass law, but with an extra term b to take into account that the gass particles are hard spheres.\n",
    "\n",
    "The number of particles was set to 5000, elasticity was 1 and tc = 0. \n",
    "$$\n",
    "\\begin{equation}\n",
    "    V = n b + \\frac{n R T }{P}\n",
    "\\label{Van}\n",
    "\\end{equation}\n",
    "$$\n",
    "\\autoref{Van} gives the volume of the gass, and is used to decide the dimensions of the box.\n",
    "\n",
    "\n",
    "| parameter | value                   |\n",
    "|-----------|-------------------------|\n",
    "| k_b       | 1.38 \\cdot 10^{-23}     |\n",
    "| R         | 8.3144626               |\n",
    "| b         | 0.03186  \\cite{b}       |\n",
    "| v_{mean}  | 461.3                   |\n",
    "| T         | 409.6 K                 |\n",
    "| \\mu       | 1.66 \\cdot 10^{-27}     |\n",
    "| m_{O_{2}} | 32 \\mu                  |\n",
    "| P         | 101325 Pa               |\n",
    "| r_02      | 152 \\cdot 10{-12}       |\n",
    "| mol       | 6.0221415 \\cdot 10^{23} |\n",
    "| x = y     | 8.161083 \\cdot 10^{-8}  |\n",
    "\n",
    "\n"
   ]
  },
  {
   "cell_type": "markdown",
   "id": "6583a48e",
   "metadata": {},
   "source": [
    "![]('task2_m_n=2000.gif')"
   ]
  },
  {
   "cell_type": "code",
   "execution_count": 4,
   "id": "7e8cc820",
   "metadata": {},
   "outputs": [],
   "source": [
    "import os"
   ]
  },
  {
   "cell_type": "code",
   "execution_count": 6,
   "id": "b44c624f",
   "metadata": {},
   "outputs": [
    {
     "data": {
      "text/plain": [
       "['.git',\n",
       " '.ipynb_checkpoints',\n",
       " 'Assignment 1.ipynb',\n",
       " 'Comparing distributions for diff mass.pdf',\n",
       " 'Comparing the average velocity over time.pdf',\n",
       " 'convergence.pdf',\n",
       " 'Event Driven Simulation.ipynb',\n",
       " 'gif.gif.gif',\n",
       " 'n = 1000.mp4',\n",
       " 'particle_classes.py',\n",
       " 'system_class.py',\n",
       " 'Task1, n = 1000.gif',\n",
       " 'task1.py',\n",
       " 'task2_4m_n=2000.gif',\n",
       " 'task2_m_n=2000.gif',\n",
       " 'Velocity distribution.pdf',\n",
       " '__pycache__']"
      ]
     },
     "execution_count": 6,
     "metadata": {},
     "output_type": "execute_result"
    }
   ],
   "source": [
    "os.listdir()"
   ]
  },
  {
   "cell_type": "markdown",
   "id": "5be91998",
   "metadata": {},
   "source": [
    "![yolo]('gif.gif.gif')"
   ]
  },
  {
   "cell_type": "code",
   "execution_count": 2,
   "id": "eea63b76",
   "metadata": {},
   "outputs": [
    {
     "ename": "TypeError",
     "evalue": "__init__() got an unexpected keyword argument 'encoding'",
     "output_type": "error",
     "traceback": [
      "\u001b[1;31m---------------------------------------------------------------------------\u001b[0m",
      "\u001b[1;31mTypeError\u001b[0m                                 Traceback (most recent call last)",
      "\u001b[1;32m~\\AppData\\Local\\Temp\\ipykernel_3056\\2924040600.py\u001b[0m in \u001b[0;36m<module>\u001b[1;34m\u001b[0m\n\u001b[0;32m      1\u001b[0m \u001b[1;32mfrom\u001b[0m \u001b[0mIPython\u001b[0m \u001b[1;32mimport\u001b[0m \u001b[0mdisplay\u001b[0m\u001b[1;33m\u001b[0m\u001b[1;33m\u001b[0m\u001b[0m\n\u001b[1;32m----> 2\u001b[1;33m \u001b[0mdisplay\u001b[0m\u001b[1;33m.\u001b[0m\u001b[0mHTML\u001b[0m\u001b[1;33m(\u001b[0m\u001b[1;34m\"Task1, n = 1000.gif\"\u001b[0m\u001b[1;33m,\u001b[0m \u001b[0mencoding\u001b[0m \u001b[1;33m=\u001b[0m \u001b[1;34m\"utf-8\"\u001b[0m\u001b[1;33m)\u001b[0m\u001b[1;33m\u001b[0m\u001b[1;33m\u001b[0m\u001b[0m\n\u001b[0m",
      "\u001b[1;31mTypeError\u001b[0m: __init__() got an unexpected keyword argument 'encoding'"
     ]
    }
   ],
   "source": [
    "from IPython import display\n",
    "display.HTML(\"Task1, n = 1000.gif\", encoding = \"utf-8\")"
   ]
  },
  {
   "cell_type": "markdown",
   "id": "2dc22057",
   "metadata": {},
   "source": [
    "#### Task 2\n",
    "\n",
    " In this task, a gas mixture was simulated with two different types of particles having different masses. Half of the particles had a mass of m=m0, while the other half had a mass of m=4m0, where m0 was a constant. The goal was to plot the speed distribution histogram separately for both particle types before and after the system reached equilibrium. Additionally, the average speed and kinetic energy were calculated separately for each particle type. The value of the parameter ξ used in this problem was 1.\n",
    "The parameters were the same as in task 1. \n",
    "\n"
   ]
  },
  {
   "cell_type": "markdown",
   "id": "d60094a3",
   "metadata": {},
   "source": [
    "####  Task 3\n",
    "\n",
    "In this task, the objective was to repeat the setup of Problem 2 and write output at short intervals, while ensuring that the average number of collisions per particle was much less than 1 during an interval. At each output step, the average kinetic energy over all particles, the average over those particles with mass m=m0, and the average over those with mass m=4m0 was calculated. The simulation was run until the average number of particle-particle collisions per particle reached 10. This procedure was repeated for ξ=1, ξ=0.9, and ξ=0.8. \n",
    "\n"
   ]
  },
  {
   "cell_type": "code",
   "execution_count": null,
   "id": "6b700c1d",
   "metadata": {},
   "outputs": [],
   "source": []
  }
 ],
 "metadata": {
  "kernelspec": {
   "display_name": "Python 3 (ipykernel)",
   "language": "python",
   "name": "python3"
  },
  "language_info": {
   "codemirror_mode": {
    "name": "ipython",
    "version": 3
   },
   "file_extension": ".py",
   "mimetype": "text/x-python",
   "name": "python",
   "nbconvert_exporter": "python",
   "pygments_lexer": "ipython3",
   "version": "3.9.13"
  }
 },
 "nbformat": 4,
 "nbformat_minor": 5
}
