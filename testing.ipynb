{
 "cells": [
  {
   "cell_type": "code",
   "execution_count": 1,
   "metadata": {},
   "outputs": [],
   "source": [
    "from helper import *\n"
   ]
  },
  {
   "cell_type": "code",
   "execution_count": null,
   "metadata": {},
   "outputs": [],
   "source": [
    "num_particles = 2\n",
    "elasticity= 0.5\n",
    "x_boundaries = 1\n",
    "y_boundaries = 1\n",
    "mean_velocity = 0.5\n",
    "mass=[1]\n",
    "radius=[.001]\n",
    "tc = 0\n",
    "\n",
    "system_1 = system(num_particles, elasticity,x_boundaries, y_boundaries,mean_velocity,mass,radius, tc)\n",
    "\n",
    "p1 = particle(position(0.01,0.5), velocity(1,0), 0.01, 1)\n",
    "p2 = particle(position(0.99,0.5), velocity(-1,0), 0.01, 1)\n",
    "\n",
    "system_1.particles.append(p1)\n",
    "system_1.particles.append(p2)\n",
    "for p in system_1.particles: \n",
    "    system_1.find_collisions_particle(p)\n",
    "\n",
    "x_list,y_list,vx_list,vy_list = evolution(system_1,1)\n",
    "\n",
    "\n",
    "fig_debug = plotting_evolution(x_list,y_list,vx_list,vy_list)\n",
    "plt.show()"
   ]
  }
 ],
 "metadata": {
  "kernelspec": {
   "display_name": "Python 3",
   "language": "python",
   "name": "python3"
  },
  "language_info": {
   "codemirror_mode": {
    "name": "ipython",
    "version": 3
   },
   "file_extension": ".py",
   "mimetype": "text/x-python",
   "name": "python",
   "nbconvert_exporter": "python",
   "pygments_lexer": "ipython3",
   "version": "3.10.6"
  },
  "orig_nbformat": 4,
  "vscode": {
   "interpreter": {
    "hash": "26de051ba29f2982a8de78e945f0abaf191376122a1563185a90213a26c5da77"
   }
  }
 },
 "nbformat": 4,
 "nbformat_minor": 2
}
